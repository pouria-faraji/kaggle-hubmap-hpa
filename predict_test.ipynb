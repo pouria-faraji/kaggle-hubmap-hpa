{
  "cells": [
    {
      "cell_type": "markdown",
      "metadata": {
        "id": "PLkGSMo9qTt7"
      },
      "source": [
        "#### Install and Import"
      ]
    },
    {
      "cell_type": "code",
      "execution_count": null,
      "metadata": {
        "colab": {
          "base_uri": "https://localhost:8080/"
        },
        "id": "89cKbu6Il_I7",
        "outputId": "9a89069f-400f-4f2d-bb5d-9afcc346430b"
      },
      "outputs": [
        {
          "name": "stdout",
          "output_type": "stream",
          "text": [
            "\u001b[?25l\r\u001b[K     |█████▋                          | 10 kB 27.0 MB/s eta 0:00:01\r\u001b[K     |███████████▎                    | 20 kB 27.5 MB/s eta 0:00:01\r\u001b[K     |████████████████▉               | 30 kB 27.8 MB/s eta 0:00:01\r\u001b[K     |██████████████████████▌         | 40 kB 30.2 MB/s eta 0:00:01\r\u001b[K     |████████████████████████████    | 51 kB 32.6 MB/s eta 0:00:01\r\u001b[K     |████████████████████████████████| 58 kB 3.8 MB/s \n",
            "\u001b[?25hLooking in indexes: https://pypi.org/simple, https://us-python.pkg.dev/colab-wheels/public/simple/\n",
            "Requirement already satisfied: pyyaml in /usr/local/lib/python3.7/dist-packages (6.0)\n",
            "Requirement already satisfied: h5py in /usr/local/lib/python3.7/dist-packages (3.1.0)\n",
            "Requirement already satisfied: numpy>=1.14.5 in /usr/local/lib/python3.7/dist-packages (from h5py) (1.21.6)\n",
            "Requirement already satisfied: cached-property in /usr/local/lib/python3.7/dist-packages (from h5py) (1.5.2)\n",
            "Looking in indexes: https://pypi.org/simple, https://us-python.pkg.dev/colab-wheels/public/simple/\n",
            "Collecting segmentation-models\n",
            "  Downloading segmentation_models-1.0.1-py3-none-any.whl (33 kB)\n",
            "Collecting image-classifiers==1.0.0\n",
            "  Downloading image_classifiers-1.0.0-py3-none-any.whl (19 kB)\n",
            "Collecting keras-applications<=1.0.8,>=1.0.7\n",
            "  Downloading Keras_Applications-1.0.8-py3-none-any.whl (50 kB)\n",
            "\u001b[K     |████████████████████████████████| 50 kB 1.3 MB/s \n",
            "\u001b[?25hCollecting efficientnet==1.0.0\n",
            "  Downloading efficientnet-1.0.0-py3-none-any.whl (17 kB)\n",
            "Requirement already satisfied: scikit-image in /usr/local/lib/python3.7/dist-packages (from efficientnet==1.0.0->segmentation-models) (0.18.3)\n",
            "Requirement already satisfied: numpy>=1.9.1 in /usr/local/lib/python3.7/dist-packages (from keras-applications<=1.0.8,>=1.0.7->segmentation-models) (1.21.6)\n",
            "Requirement already satisfied: h5py in /usr/local/lib/python3.7/dist-packages (from keras-applications<=1.0.8,>=1.0.7->segmentation-models) (3.1.0)\n",
            "Requirement already satisfied: cached-property in /usr/local/lib/python3.7/dist-packages (from h5py->keras-applications<=1.0.8,>=1.0.7->segmentation-models) (1.5.2)\n",
            "Requirement already satisfied: PyWavelets>=1.1.1 in /usr/local/lib/python3.7/dist-packages (from scikit-image->efficientnet==1.0.0->segmentation-models) (1.3.0)\n",
            "Requirement already satisfied: tifffile>=2019.7.26 in /usr/local/lib/python3.7/dist-packages (from scikit-image->efficientnet==1.0.0->segmentation-models) (2021.11.2)\n",
            "Requirement already satisfied: scipy>=1.0.1 in /usr/local/lib/python3.7/dist-packages (from scikit-image->efficientnet==1.0.0->segmentation-models) (1.7.3)\n",
            "Requirement already satisfied: matplotlib!=3.0.0,>=2.0.0 in /usr/local/lib/python3.7/dist-packages (from scikit-image->efficientnet==1.0.0->segmentation-models) (3.2.2)\n",
            "Requirement already satisfied: imageio>=2.3.0 in /usr/local/lib/python3.7/dist-packages (from scikit-image->efficientnet==1.0.0->segmentation-models) (2.9.0)\n",
            "Requirement already satisfied: networkx>=2.0 in /usr/local/lib/python3.7/dist-packages (from scikit-image->efficientnet==1.0.0->segmentation-models) (2.6.3)\n",
            "Requirement already satisfied: pillow!=7.1.0,!=7.1.1,>=4.3.0 in /usr/local/lib/python3.7/dist-packages (from scikit-image->efficientnet==1.0.0->segmentation-models) (7.1.2)\n",
            "Requirement already satisfied: cycler>=0.10 in /usr/local/lib/python3.7/dist-packages (from matplotlib!=3.0.0,>=2.0.0->scikit-image->efficientnet==1.0.0->segmentation-models) (0.11.0)\n",
            "Requirement already satisfied: python-dateutil>=2.1 in /usr/local/lib/python3.7/dist-packages (from matplotlib!=3.0.0,>=2.0.0->scikit-image->efficientnet==1.0.0->segmentation-models) (2.8.2)\n",
            "Requirement already satisfied: pyparsing!=2.0.4,!=2.1.2,!=2.1.6,>=2.0.1 in /usr/local/lib/python3.7/dist-packages (from matplotlib!=3.0.0,>=2.0.0->scikit-image->efficientnet==1.0.0->segmentation-models) (3.0.9)\n",
            "Requirement already satisfied: kiwisolver>=1.0.1 in /usr/local/lib/python3.7/dist-packages (from matplotlib!=3.0.0,>=2.0.0->scikit-image->efficientnet==1.0.0->segmentation-models) (1.4.4)\n",
            "Requirement already satisfied: typing-extensions in /usr/local/lib/python3.7/dist-packages (from kiwisolver>=1.0.1->matplotlib!=3.0.0,>=2.0.0->scikit-image->efficientnet==1.0.0->segmentation-models) (4.1.1)\n",
            "Requirement already satisfied: six>=1.5 in /usr/local/lib/python3.7/dist-packages (from python-dateutil>=2.1->matplotlib!=3.0.0,>=2.0.0->scikit-image->efficientnet==1.0.0->segmentation-models) (1.15.0)\n",
            "Installing collected packages: keras-applications, image-classifiers, efficientnet, segmentation-models\n",
            "Successfully installed efficientnet-1.0.0 image-classifiers-1.0.0 keras-applications-1.0.8 segmentation-models-1.0.1\n"
          ]
        }
      ],
      "source": [
        "! pip install -q patchify\n",
        "! pip install -q segmentation-models"
      ]
    },
    {
      "cell_type": "code",
      "execution_count": null,
      "metadata": {
        "colab": {
          "base_uri": "https://localhost:8080/"
        },
        "id": "pUlFp_yEn_KS",
        "outputId": "9a037a8e-208d-46ec-d5fd-de10e61eedc4"
      },
      "outputs": [
        {
          "name": "stdout",
          "output_type": "stream",
          "text": [
            "Segmentation Models: using `keras` framework.\n"
          ]
        }
      ],
      "source": [
        "import json\n",
        "import os\n",
        "import pathlib\n",
        "import warnings\n",
        "import random\n",
        "\n",
        "import cv2\n",
        "import matplotlib.pyplot as plt\n",
        "import numpy as np  # linear algebra\n",
        "import pandas as pd  # data processing, CSV file I/O (e.g. pd.read_csv)\n",
        "import patchify\n",
        "import PIL\n",
        "import tensorflow as tf\n",
        "from matplotlib import animation\n",
        "from PIL import Image\n",
        "from tensorflow import keras\n",
        "from tensorflow.keras import layers\n",
        "from tensorflow.keras.models import Sequential\n",
        "from tqdm import tqdm\n",
        "\n",
        "from Manager import InputMode, Manager\n",
        "from Augment import Augment\n",
        "from DiceLoss import DiceLoss\n",
        "from DiceMetric import DiceCoefficient\n",
        "from UNet import UNet\n",
        "\n",
        "# import segmentation_models as sm\n",
        "\n",
        "# from segmentation_models.losses import DiceLoss\n",
        "# from segmentation_models.metrics import IOUScore\n",
        "\n",
        "# sm.set_framework('tf.keras')\n",
        "os.environ['TF_CUDNN_DETERMINISTIC'] = 'false'\n",
        "os.environ['TF_DETERMINISTIC_OPS'] = 'false'\n",
        "os.environ['TF_DISABLE_SEGMENT_REDUCTION_OP_DETERMINISM_EXCEPTIONS'] = 'true'\n"
      ]
    },
    {
      "cell_type": "markdown",
      "metadata": {},
      "source": [
        "#### Constants"
      ]
    },
    {
      "cell_type": "code",
      "execution_count": null,
      "metadata": {
        "id": "5fVF2cgoq-zE"
      },
      "outputs": [],
      "source": [
        "\n",
        "EPOCHS = 50\n",
        "WIDTH = 256\n",
        "HEIGHT = 256\n",
        "BATCH_SIZE = 16\n",
        "NUM_CLASSES = 1\n",
        "VALIDATION_SPLIT = 0.2\n",
        "SEED = 31415\n",
        "\n",
        "CSV_ID = 1\n",
        "MONITOR_MODE = 'loss'\n",
        "SAVE_BEST = True\n",
        "EARLY_STOPPING = True\n",
        "EARLY_STOPPING_PATIENCE = 7\n",
        "\n",
        "REDUCE_LR = True\n",
        "REDUCE_LR_FACTOR = 0.2\n",
        "REDUCE_LR_PATIENCE = 3\n",
        "\n",
        "THRESHOLD = 0.3\n",
        "\n",
        "def display_overlay(image, mask):\n",
        "    plt.figure(figsize = (7,7))\n",
        "    plt.imshow(image)\n",
        "    plt.imshow(mask, alpha=0.5)"
      ]
    },
    {
      "cell_type": "markdown",
      "metadata": {
        "id": "8lxDufpVbPgY"
      },
      "source": [
        "### Predict Test"
      ]
    },
    {
      "cell_type": "code",
      "execution_count": null,
      "metadata": {
        "id": "7LZRRTPwKkXA"
      },
      "outputs": [],
      "source": [
        "! unzip -q saved_models.zip"
      ]
    },
    {
      "cell_type": "code",
      "execution_count": null,
      "metadata": {
        "colab": {
          "base_uri": "https://localhost:8080/"
        },
        "id": "ondLtJWMKx3O",
        "outputId": "31d50b5a-f2b4-44a2-f5f5-f783a7832132"
      },
      "outputs": [
        {
          "name": "stdout",
          "output_type": "stream",
          "text": [
            "Model loaded from model_0\n"
          ]
        }
      ],
      "source": [
        "manager = Manager(loads_model=True, base_path='/content', training_id=0)"
      ]
    },
    {
      "cell_type": "code",
      "execution_count": null,
      "metadata": {
        "id": "wGueN72BGC2F"
      },
      "outputs": [],
      "source": [
        "def rle_encode(img, threshold=0.5):\n",
        "    img = img.T\n",
        "    pixels = np.concatenate((np.array([0]), img.flatten(), np.array([0])))\n",
        "    beginings = np.where( (pixels >= threshold) & (np.concatenate((np.array([2]), pixels[:-1])) < threshold) )[0]\n",
        "    ends = np.where( (pixels >= threshold) & (np.concatenate((pixels[1:], np.array([2]))) < threshold) )[0]\n",
        "\n",
        "    rle = ''\n",
        "    for begin, end in zip(beginings, ends):\n",
        "        rle += str(begin-1) + ' ' + str(end - begin + 1) + ' '\n",
        "    return rle[:-1]\n",
        "\n",
        "def get_correct_dimension(number, divisible):\n",
        "    if number % divisible == 0:\n",
        "        return number\n",
        "    else:\n",
        "        return number + divisible - (number % divisible)\n",
        "\n",
        "def correct_image_size(img, size):\n",
        "    if img.shape[0] != size:\n",
        "        img = cv2.resize(img, (size, size))\n",
        "    return img\n"
      ]
    },
    {
      "cell_type": "code",
      "execution_count": null,
      "metadata": {
        "id": "Km1gS15lbViK"
      },
      "outputs": [],
      "source": [
        "test_images_dir = 'dataset/test_images'\n",
        "test_images = [name for name in os.listdir(test_images_dir)]\n",
        "test_images = [i for i in test_images if '.tiff' in i]\n",
        "test_images = sorted(test_images, key=lambda x: int(x.split('.')[0]))"
      ]
    },
    {
      "cell_type": "code",
      "execution_count": null,
      "metadata": {
        "colab": {
          "base_uri": "https://localhost:8080/"
        },
        "id": "oEZBjX-EkY4W",
        "outputId": "fcec43f5-a72f-4c5e-c0d7-466ff5584cd7"
      },
      "outputs": [
        {
          "name": "stderr",
          "output_type": "stream",
          "text": [
            "100%|██████████| 3/3 [00:02<00:00,  1.22it/s]\n"
          ]
        }
      ],
      "source": [
        "PATCH_SIZE = 1024\n",
        "submission_df = None\n",
        "submission_dict = {'id': [], 'rle': []}\n",
        "for test_image_filename in tqdm(test_images):\n",
        "    image_id = int(test_image_filename.split('.')[0])\n",
        "    submission_dict['id'].append(image_id)\n",
        "    test_image_file = test_images_dir + '/' + test_image_filename\n",
        "    image = cv2.imread(test_image_file)\n",
        "    ORIGINAL_SIZE = image.shape[0]\n",
        "    image = correct_image_size(image, get_correct_dimension(image.shape[0], PATCH_SIZE))\n",
        "    CORRECTED_SIZE = image.shape[0]\n",
        "\n",
        "    image = tf.cast(image, tf.float32) / 255.0\n",
        "\n",
        "    test_mask = np.zeros((CORRECTED_SIZE, CORRECTED_SIZE))\n",
        "\n",
        "    for i in range(0, image.shape[0], PATCH_SIZE):\n",
        "        for j in range(0, image.shape[1], PATCH_SIZE):\n",
        "            smaller_image = image[i:i+PATCH_SIZE, j:j+PATCH_SIZE]\n",
        "            smaller_image = cv2.resize(smaller_image.numpy(),  (HEIGHT, WIDTH))\n",
        "            smaller_image = tf.expand_dims(smaller_image, 0) # Create a batch\n",
        "            smaller_mask = manager.model.predict(smaller_image)\n",
        "\n",
        "            smaller_mask = np.where(smaller_mask > THRESHOLD, 1, 0)\n",
        "            \n",
        "            # smaller_mask = tf.math.argmax(smaller_mask, axis=-1)\n",
        "            smaller_mask = tf.cast(smaller_mask, tf.float32)\n",
        "\n",
        "            # smaller_mask = tf.expand_dims(smaller_mask[0], 2)\n",
        "            smaller_mask = cv2.resize(smaller_mask[0].numpy(), (PATCH_SIZE, PATCH_SIZE))\n",
        "\n",
        "            test_mask[i:i+PATCH_SIZE, j:j+PATCH_SIZE] = smaller_mask\n",
        "\n",
        "    test_mask = correct_image_size(test_mask, ORIGINAL_SIZE)\n",
        "    # plt.imshow(test_mask)\n",
        "    cv2.imwrite(str(image_id) +'_mask.png', test_mask * 255)\n",
        "\n",
        "    rle = rle_encode(test_mask)\n",
        "    submission_dict['rle'].append(rle)\n",
        "\n",
        "submission_df = pd.DataFrame(submission_dict)\n",
        "submission_df.to_csv('submission.csv', index=False)"
      ]
    },
    {
      "cell_type": "code",
      "execution_count": null,
      "metadata": {
        "colab": {
          "base_uri": "https://localhost:8080/",
          "height": 143
        },
        "id": "KzkBjJbbObMV",
        "outputId": "90247fb0-4903-48fd-8e64-5dfd30aa16cc"
      },
      "outputs": [
        {
          "data": {
            "text/html": [
              "\n",
              "  <div id=\"df-60f30657-72c3-4a7a-896a-7df04d984b3d\">\n",
              "    <div class=\"colab-df-container\">\n",
              "      <div>\n",
              "<style scoped>\n",
              "    .dataframe tbody tr th:only-of-type {\n",
              "        vertical-align: middle;\n",
              "    }\n",
              "\n",
              "    .dataframe tbody tr th {\n",
              "        vertical-align: top;\n",
              "    }\n",
              "\n",
              "    .dataframe thead th {\n",
              "        text-align: right;\n",
              "    }\n",
              "</style>\n",
              "<table border=\"1\" class=\"dataframe\">\n",
              "  <thead>\n",
              "    <tr style=\"text-align: right;\">\n",
              "      <th></th>\n",
              "      <th>id</th>\n",
              "      <th>rle</th>\n",
              "    </tr>\n",
              "  </thead>\n",
              "  <tbody>\n",
              "    <tr>\n",
              "      <th>0</th>\n",
              "      <td>10044</td>\n",
              "      <td>1525731 30 1528731 31 1531730 32 1534729 34 15...</td>\n",
              "    </tr>\n",
              "    <tr>\n",
              "      <th>1</th>\n",
              "      <td>10078</td>\n",
              "      <td>40777 2 42799 4 44823 3 910818 4 912840 7 9148...</td>\n",
              "    </tr>\n",
              "    <tr>\n",
              "      <th>2</th>\n",
              "      <td>27879</td>\n",
              "      <td>1441268 30 1444266 34 1447266 35 1450265 37 14...</td>\n",
              "    </tr>\n",
              "  </tbody>\n",
              "</table>\n",
              "</div>\n",
              "      <button class=\"colab-df-convert\" onclick=\"convertToInteractive('df-60f30657-72c3-4a7a-896a-7df04d984b3d')\"\n",
              "              title=\"Convert this dataframe to an interactive table.\"\n",
              "              style=\"display:none;\">\n",
              "        \n",
              "  <svg xmlns=\"http://www.w3.org/2000/svg\" height=\"24px\"viewBox=\"0 0 24 24\"\n",
              "       width=\"24px\">\n",
              "    <path d=\"M0 0h24v24H0V0z\" fill=\"none\"/>\n",
              "    <path d=\"M18.56 5.44l.94 2.06.94-2.06 2.06-.94-2.06-.94-.94-2.06-.94 2.06-2.06.94zm-11 1L8.5 8.5l.94-2.06 2.06-.94-2.06-.94L8.5 2.5l-.94 2.06-2.06.94zm10 10l.94 2.06.94-2.06 2.06-.94-2.06-.94-.94-2.06-.94 2.06-2.06.94z\"/><path d=\"M17.41 7.96l-1.37-1.37c-.4-.4-.92-.59-1.43-.59-.52 0-1.04.2-1.43.59L10.3 9.45l-7.72 7.72c-.78.78-.78 2.05 0 2.83L4 21.41c.39.39.9.59 1.41.59.51 0 1.02-.2 1.41-.59l7.78-7.78 2.81-2.81c.8-.78.8-2.07 0-2.86zM5.41 20L4 18.59l7.72-7.72 1.47 1.35L5.41 20z\"/>\n",
              "  </svg>\n",
              "      </button>\n",
              "      \n",
              "  <style>\n",
              "    .colab-df-container {\n",
              "      display:flex;\n",
              "      flex-wrap:wrap;\n",
              "      gap: 12px;\n",
              "    }\n",
              "\n",
              "    .colab-df-convert {\n",
              "      background-color: #E8F0FE;\n",
              "      border: none;\n",
              "      border-radius: 50%;\n",
              "      cursor: pointer;\n",
              "      display: none;\n",
              "      fill: #1967D2;\n",
              "      height: 32px;\n",
              "      padding: 0 0 0 0;\n",
              "      width: 32px;\n",
              "    }\n",
              "\n",
              "    .colab-df-convert:hover {\n",
              "      background-color: #E2EBFA;\n",
              "      box-shadow: 0px 1px 2px rgba(60, 64, 67, 0.3), 0px 1px 3px 1px rgba(60, 64, 67, 0.15);\n",
              "      fill: #174EA6;\n",
              "    }\n",
              "\n",
              "    [theme=dark] .colab-df-convert {\n",
              "      background-color: #3B4455;\n",
              "      fill: #D2E3FC;\n",
              "    }\n",
              "\n",
              "    [theme=dark] .colab-df-convert:hover {\n",
              "      background-color: #434B5C;\n",
              "      box-shadow: 0px 1px 3px 1px rgba(0, 0, 0, 0.15);\n",
              "      filter: drop-shadow(0px 1px 2px rgba(0, 0, 0, 0.3));\n",
              "      fill: #FFFFFF;\n",
              "    }\n",
              "  </style>\n",
              "\n",
              "      <script>\n",
              "        const buttonEl =\n",
              "          document.querySelector('#df-60f30657-72c3-4a7a-896a-7df04d984b3d button.colab-df-convert');\n",
              "        buttonEl.style.display =\n",
              "          google.colab.kernel.accessAllowed ? 'block' : 'none';\n",
              "\n",
              "        async function convertToInteractive(key) {\n",
              "          const element = document.querySelector('#df-60f30657-72c3-4a7a-896a-7df04d984b3d');\n",
              "          const dataTable =\n",
              "            await google.colab.kernel.invokeFunction('convertToInteractive',\n",
              "                                                     [key], {});\n",
              "          if (!dataTable) return;\n",
              "\n",
              "          const docLinkHtml = 'Like what you see? Visit the ' +\n",
              "            '<a target=\"_blank\" href=https://colab.research.google.com/notebooks/data_table.ipynb>data table notebook</a>'\n",
              "            + ' to learn more about interactive tables.';\n",
              "          element.innerHTML = '';\n",
              "          dataTable['output_type'] = 'display_data';\n",
              "          await google.colab.output.renderOutput(dataTable, element);\n",
              "          const docLink = document.createElement('div');\n",
              "          docLink.innerHTML = docLinkHtml;\n",
              "          element.appendChild(docLink);\n",
              "        }\n",
              "      </script>\n",
              "    </div>\n",
              "  </div>\n",
              "  "
            ],
            "text/plain": [
              "      id                                                rle\n",
              "0  10044  1525731 30 1528731 31 1531730 32 1534729 34 15...\n",
              "1  10078  40777 2 42799 4 44823 3 910818 4 912840 7 9148...\n",
              "2  27879  1441268 30 1444266 34 1447266 35 1450265 37 14..."
            ]
          },
          "execution_count": 29,
          "metadata": {},
          "output_type": "execute_result"
        }
      ],
      "source": [
        "submission_df"
      ]
    }
  ],
  "metadata": {
    "accelerator": "GPU",
    "colab": {
      "collapsed_sections": [
        "sHGz-l2Ma8zx",
        "SlZNGV12qMuq",
        "kO46m1hPqbqv",
        "TaU94Nt_eqLs"
      ],
      "provenance": []
    },
    "gpuClass": "standard",
    "kernelspec": {
      "display_name": "Python 3",
      "name": "python3"
    },
    "language_info": {
      "name": "python"
    }
  },
  "nbformat": 4,
  "nbformat_minor": 0
}
